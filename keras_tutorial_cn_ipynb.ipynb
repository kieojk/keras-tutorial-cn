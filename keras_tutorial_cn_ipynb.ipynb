{
  "nbformat": 4,
  "nbformat_minor": 0,
  "metadata": {
    "colab": {
      "name": "“keras-tutorial-cn.ipynb”",
      "version": "0.3.2",
      "provenance": [],
      "private_outputs": true,
      "collapsed_sections": [],
      "toc_visible": true
    },
    "kernelspec": {
      "name": "python3",
      "display_name": "Python 3"
    },
    "accelerator": "GPU"
  },
  "cells": [
    {
      "metadata": {
        "id": "CCQY7jpBfMur",
        "colab_type": "text"
      },
      "cell_type": "markdown",
      "source": [
        "##### Copyright 2018 The TensorFlow Authors."
      ]
    },
    {
      "metadata": {
        "id": "z6X9omPnfO_h",
        "colab_type": "code",
        "cellView": "form",
        "colab": {}
      },
      "cell_type": "code",
      "source": [
        "#@title Licensed under the Apache License, Version 2.0 (the \"License\");\n",
        "# you may not use this file except in compliance with the License.\n",
        "# You may obtain a copy of the License at\n",
        "#\n",
        "# https://www.apache.org/licenses/LICENSE-2.0\n",
        "#\n",
        "# Unless required by applicable law or agreed to in writing, software\n",
        "# distributed under the License is distributed on an \"AS IS\" BASIS,\n",
        "# WITHOUT WARRANTIES OR CONDITIONS OF ANY KIND, either express or implied.\n",
        "# See the License for the specific language governing permissions and\n",
        "# limitations under the License."
      ],
      "execution_count": 0,
      "outputs": []
    },
    {
      "metadata": {
        "id": "F1xIRPtY0E1w",
        "colab_type": "text"
      },
      "cell_type": "markdown",
      "source": [
        "# Keras"
      ]
    },
    {
      "metadata": {
        "id": "VyOjQZHhZxaA",
        "colab_type": "text"
      },
      "cell_type": "markdown",
      "source": [
        "<table class=\"tfo-notebook-buttons\" align=\"left\">\n",
        "  <td>\n",
        "    <a target=\"_blank\" href=\"https://www.tensorflow.org/guide/keras\"><img src=\"https://www.tensorflow.org/images/tf_logo_32px.png\" />View on TensorFlow.org</a>\n",
        "  </td>\n",
        "  <td>\n",
        "    <a target=\"_blank\" href=\"https://colab.research.google.com/github/tensorflow/docs/blob/master/site/en/guide/keras.ipynb\"><img src=\"https://www.tensorflow.org/images/colab_logo_32px.png\" />Run in Google Colab</a>\n",
        "  </td>\n",
        "  <td>\n",
        "    <a target=\"_blank\" href=\"https://github.com/tensorflow/docs/blob/master/site/en/guide/keras.ipynb\"><img src=\"https://www.tensorflow.org/images/GitHub-Mark-32px.png\" />View source on GitHub</a>\n",
        "  </td>\n",
        "</table>"
      ]
    },
    {
      "metadata": {
        "id": "ViAXWoKlZ8s6",
        "colab_type": "text"
      },
      "cell_type": "markdown",
      "source": [
        "Keras 是一款意于快速搭建训练 DeepLearning 模型的 High-level API. \n",
        "Keras 有三个关键优势: \n",
        "\n",
        "- *User friendly*<br>\n",
        "  Keras 针对通用案例, 有简单,保持一致性的接口. 提供了清晰的 error 反馈.\n",
        "- *模块化 & 组件化*<br>\n",
        "  Keras 模型由一个个可配置的blocks 组成, 只有极少的限制, 如 LEGO 一般简单. \n",
        "- *便于扩展*<br> \n",
        "  通过编写自定义 blocks 来实现新的研究思路. 如创建新的 layers, loss functions, 和开发最新的 models. "
      ]
    },
    {
      "metadata": {
        "id": "IsK5aF2xZ-40",
        "colab_type": "text"
      },
      "cell_type": "markdown",
      "source": [
        "## Import tf.keras\n",
        "\n",
        "`tf.keras` 是 TensorFlow 版的\n",
        "[Keras API specification](https://keras.io){:.external}. 这个 high-level\n",
        "API 除了原始 Keras 内容外, 还包括了一些\n",
        "易用的TensorFlow-specific 功能, 比如 [eager execution](#eager_execution),\n",
        "`tf.data` pipelines, 还有 [Estimators](./estimators.md).\n",
        "`tf.keras` 让 TensorFlow 更加易用, 并且无需再灵活性和性能上有所牺牲. \n",
        "\n",
        "那么我们从 import `tf.keras` 来开启你的 TensorFlow program:"
      ]
    },
    {
      "metadata": {
        "id": "Qoc055N3wiUG",
        "colab_type": "code",
        "colab": {}
      },
      "cell_type": "code",
      "source": [
        "!pip install -q pyyaml  # pyyaml is an optional"
      ],
      "execution_count": 0,
      "outputs": []
    },
    {
      "metadata": {
        "id": "TgPcBFru0E1z",
        "colab_type": "code",
        "colab": {}
      },
      "cell_type": "code",
      "source": [
        "import tensorflow as tf\n",
        "from tensorflow.keras import layers\n",
        "import keras \n",
        "\n",
        "\n",
        "print(tf.VERSION)\n",
        "print(tf.keras.__version__)\n",
        "print(keras.__version__)"
      ],
      "execution_count": 0,
      "outputs": []
    },
    {
      "metadata": {
        "id": "lj03RamP0E13",
        "colab_type": "text"
      },
      "cell_type": "markdown",
      "source": [
        "`tf.keras` 可以运行任何 Keras-compatible 代码, 但是要记住:\n",
        "\n",
        "* TensorFlow 内 `tf.keras`的最新 version 并不一定和 `keras` 的最新version 相同 . 通过 `tf.keras.__version__` 查看 TensorFlow 的 keras version\n",
        "*  当 [保存一个 model 的 weights时](#weights_only), `tf.keras` 默认保存格式是\n",
        "  [checkpoint format](./checkpoints.md). 通过 `save_format='h5'` 参数来使用 HDF5 格式. "
      ]
    },
    {
      "metadata": {
        "id": "7e1LPcXx0gR6",
        "colab_type": "text"
      },
      "cell_type": "markdown",
      "source": [
        "## 创建一个简单的 model\n",
        "\n",
        "### Sequential model\n",
        "\n",
        "使用Keras, 通过组装 *layers* 来创建一个 *models*. 一个 model 通常就是一系列 layers. 最常用的 model 类型就是一堆叠起来的 layers: \n",
        "`tf.keras.Sequential` 模型.\n",
        "\n",
        "要创建一个简单的, fully-connected 网络 (例如, multi-layer perceptron):"
      ]
    },
    {
      "metadata": {
        "id": "WM-DUVQB0E14",
        "colab_type": "code",
        "colab": {}
      },
      "cell_type": "code",
      "source": [
        "model = tf.keras.Sequential()\n",
        "# 添加一个包含64个单元的 densely-connected layer:\n",
        "model.add(layers.Dense(64, activation='relu'))\n",
        "# 再添加一层:\n",
        "model.add(layers.Dense(64, activation='relu'))\n",
        "# 添加一个包含10个输出单元的 softmax 层, 用于将数据分成10类:\n",
        "model.add(layers.Dense(10, activation='softmax'))"
      ],
      "execution_count": 0,
      "outputs": []
    },
    {
      "metadata": {
        "id": "-ztyTipu0E18",
        "colab_type": "text"
      },
      "cell_type": "markdown",
      "source": [
        "### 配置 layers\n",
        "\n",
        "在 `tf.keras.layers` 有很多可以使用的layer 类型, 它们有一些通用的构造参数 :\n",
        "\n",
        "* `activation`: 为当前层设置激活函数. 此参数可以是内置的函数名称或可被调用的对象. 默认不指定任何激活函数.\n",
        "* `kernel_initializer` 和 `bias_initializer`: layer 的 weights(kernel 和 bias) 的初始化方式. 参数可以是一个名称或可调用对象. 默认使用 `\"Glorot uniform\"` 初始化.\n",
        "* `kernel_regularizer` and `bias_regularizer`: layer 的 weights (kernel and bias)的正则化方式 , 例如 L1 or L2\n",
        "  正则化. 默认不使用正则化.\n",
        "\n",
        "下面是使用构造函数初始化的 `tf.keras.layers.Dense` layers"
      ]
    },
    {
      "metadata": {
        "id": "MlL7PBtp0E19",
        "colab_type": "code",
        "colab": {}
      },
      "cell_type": "code",
      "source": [
        "# 创建一个 sigmoid layer:\n",
        "layers.Dense(64, activation='sigmoid')\n",
        "# 也可以这样:\n",
        "layers.Dense(64, activation=tf.sigmoid)\n",
        "\n",
        "# 一个对 kernal 矩阵使用0.01因子的L1 正则的 linear layer:\n",
        "layers.Dense(64, kernel_regularizer=tf.keras.regularizers.l1(0.01))\n",
        "\n",
        "# 一个对 bias 向量使用0.01因子的L2 正则的 linear layer:\n",
        "layers.Dense(64, bias_regularizer=tf.keras.regularizers.l2(0.01))\n",
        "\n",
        "# 一个对 kernal 矩阵使用随机正交矩阵初始化的 linear layer:\n",
        "layers.Dense(64, kernel_initializer='orthogonal')\n",
        "\n",
        "# 一个对 bias 向量使用常量2.0初始化的 linear layer:\n",
        "layers.Dense(64, bias_initializer=tf.keras.initializers.constant(2.0))"
      ],
      "execution_count": 0,
      "outputs": []
    },
    {
      "metadata": {
        "id": "9NR6reyk0E2A",
        "colab_type": "text"
      },
      "cell_type": "markdown",
      "source": [
        "## Train 和 evaluate\n",
        "\n",
        "### 创建 training\n",
        "\n",
        "在 model 构造好以后, 使用 `compile` 来配置学习过程: "
      ]
    },
    {
      "metadata": {
        "id": "sJ4AOn090E2A",
        "colab_type": "code",
        "colab": {}
      },
      "cell_type": "code",
      "source": [
        "model = tf.keras.Sequential([\n",
        "# 添加一个包含64个单元的 densely-connected layer:\n",
        "layers.Dense(64, activation='relu'),\n",
        "# 再添加一层:\n",
        "layers.Dense(64, activation='relu'),\n",
        "# 添加一个包含10个输出单元的 softmax 层, 用于将数据分成10类:\n",
        "layers.Dense(10, activation='softmax')])\n",
        "\n",
        "model.compile(optimizer=tf.train.AdamOptimizer(0.001),\n",
        "              loss='categorical_crossentropy',\n",
        "              metrics=['accuracy'])"
      ],
      "execution_count": 0,
      "outputs": []
    },
    {
      "metadata": {
        "id": "HG-RAa9F0E2D",
        "colab_type": "text"
      },
      "cell_type": "markdown",
      "source": [
        "`tf.keras.Model.compile` 包含三个主要参数:\n",
        "\n",
        "* `optimizer`: 用于指定训练过程. optimizer在`tf.train` 模块下 ,  例如\n",
        "  `tf.train.AdamOptimizer`, `tf.train.RMSPropOptimizer`, 或\n",
        "  `tf.train.GradientDescentOptimizer`.\n",
        "* `loss`: 在优化期间的最小化损失的检验计算方法. 通常使用\n",
        "  mean square error (`mse`), `categorical_crossentropy`, 和\n",
        "  `binary_crossentropy`. 损失函数通过`tf.keras.losses` 模块内的名称指定或传递一个可被调用对象.\n",
        "* `metrics`: 用于监控训练. 通常通过`tf.keras.metrics` 模块内的名称或函数. \n",
        "\n",
        "下面是 model 配置的例子:"
      ]
    },
    {
      "metadata": {
        "id": "St4Mgdar0E2E",
        "colab_type": "code",
        "colab": {}
      },
      "cell_type": "code",
      "source": [
        "# 配置一个使用mean-squared error 的回归模型. \n",
        "model.compile(optimizer=tf.train.AdamOptimizer(0.01),\n",
        "              loss='mse',       # mean squared error\n",
        "              metrics=['mae'])  # mean absolute error\n",
        "\n",
        "# 配置一个用于分类的模型.\n",
        "model.compile(optimizer=tf.train.RMSPropOptimizer(0.01),\n",
        "              loss=tf.keras.losses.categorical_crossentropy,\n",
        "              metrics=[tf.keras.metrics.categorical_accuracy])"
      ],
      "execution_count": 0,
      "outputs": []
    },
    {
      "metadata": {
        "id": "yjI5rbi80E2G",
        "colab_type": "text"
      },
      "cell_type": "markdown",
      "source": [
        "### 输入 NumPy 数据\n",
        "\n",
        "对于小数据集, 使用 [NumPy](https://www.numpy.org/){:.external}\n",
        "数组来 train 和 evaluate 一个模型. 使用`fit` 函数来训练模型:"
      ]
    },
    {
      "metadata": {
        "id": "3CvP6L-m0E2I",
        "colab_type": "code",
        "colab": {}
      },
      "cell_type": "code",
      "source": [
        "import numpy as np\n",
        "\n",
        "data = np.random.random((1000, 32))\n",
        "labels = np.random.random((1000, 10))\n",
        "\n",
        "model.fit(data, labels, epochs=10, batch_size=32)"
      ],
      "execution_count": 0,
      "outputs": []
    },
    {
      "metadata": {
        "id": "N-pnVaFe0E2N",
        "colab_type": "text"
      },
      "cell_type": "markdown",
      "source": [
        "`tf.keras.Model.fit` 包含三个主要参数:\n",
        "\n",
        "* `epochs`: 训练结构为 *epochs*. 一个 epoch 代表整个输入数据的一次循环 (上面的 model 会用小一些的batches来完成).\n",
        "* `batch_size`: 当传入 NumPy 数据时, 模型将数据分割成多个小的 batch, 并在训练时循环每个小的 batch 内的数据. 这个整数指定了每个 batch 的大小. 需要注意的是, 当 batch_size 不能被数据数量整除时, 最后一个 batch 会小于这个指定值.\n",
        "* `validation_data`: 当构建一个模型的原型时, 你想要基于某些验证数据来检验模型的好坏. 传入一组 inputs 和 lables 的 tuple 数据, 就可以在每个 epoch 结束时输出模型的 loss 和 metrics 了. \n",
        "\n",
        "下面是一个使用`validation_data`的例子:"
      ]
    },
    {
      "metadata": {
        "id": "gFcXzVQa0E2N",
        "colab_type": "code",
        "colab": {}
      },
      "cell_type": "code",
      "source": [
        "import numpy as np\n",
        "\n",
        "data = np.random.random((1000, 32))\n",
        "labels = np.random.random((1000, 10))\n",
        "\n",
        "val_data = np.random.random((100, 32))\n",
        "val_labels = np.random.random((100, 10))\n",
        "\n",
        "model.fit(data, labels, epochs=10, batch_size=32,\n",
        "          validation_data=(val_data, val_labels))"
      ],
      "execution_count": 0,
      "outputs": []
    },
    {
      "metadata": {
        "id": "-6ImyXzz0E2Q",
        "colab_type": "text"
      },
      "cell_type": "markdown",
      "source": [
        "### 输入 tf.data 数据集\n",
        "\n",
        "使用 [Datasets API](./datasets.md) 来扩展至大数据集或多设备训练.  向 `fit`输入 `tf.data.Dataset`参数:"
      ]
    },
    {
      "metadata": {
        "id": "OziqhpIj0E2R",
        "colab_type": "code",
        "colab": {}
      },
      "cell_type": "code",
      "source": [
        "# 使用假数据来初始化数据集:\n",
        "dataset = tf.data.Dataset.from_tensor_slices((data, labels))\n",
        "dataset = dataset.batch(32) # 指定了 batch_size\n",
        "dataset = dataset.repeat()\n",
        "\n",
        "# 不要忘记指定 `steps_per_epoch`\n",
        "model.fit(dataset, epochs=10, steps_per_epoch=30)"
      ],
      "execution_count": 0,
      "outputs": []
    },
    {
      "metadata": {
        "id": "I7BcMHkB0E2U",
        "colab_type": "text"
      },
      "cell_type": "markdown",
      "source": [
        "这里, `fit` 函数使用了 `steps_per_epoch` 参数—这个参数指定了每个 epoch 的训练步数. 因为\n",
        "`Dataset` 会产生 batches , 这个代码片段就不需要 `batch_size`了.\n",
        "\n",
        "Datasets 同样可以用于 validation:"
      ]
    },
    {
      "metadata": {
        "id": "YPMb3A0N0E2V",
        "colab_type": "code",
        "colab": {}
      },
      "cell_type": "code",
      "source": [
        "dataset = tf.data.Dataset.from_tensor_slices((data, labels))\n",
        "dataset = dataset.batch(32).repeat()\n",
        "\n",
        "val_dataset = tf.data.Dataset.from_tensor_slices((val_data, val_labels))\n",
        "val_dataset = val_dataset.batch(32).repeat()\n",
        "\n",
        "model.fit(dataset, epochs=10, steps_per_epoch=30,\n",
        "          validation_data=val_dataset,\n",
        "          validation_steps=3)"
      ],
      "execution_count": 0,
      "outputs": []
    },
    {
      "metadata": {
        "id": "IgGdlXso0E2X",
        "colab_type": "text"
      },
      "cell_type": "markdown",
      "source": [
        "### 评估 和 预测\n",
        "\n",
        "`tf.keras.Model.evaluate` 和 `tf.keras.Model.predict` 函数可以同时使用 NumPy 数据和 `tf.data.Dataset`.\n",
        "\n",
        "使用已有数据 *评估*  inference-mode loss 和 metrics :"
      ]
    },
    {
      "metadata": {
        "id": "mhDbOHEK0E2Y",
        "colab_type": "code",
        "colab": {}
      },
      "cell_type": "code",
      "source": [
        "data = np.random.random((1000, 32))\n",
        "labels = np.random.random((1000, 10))\n",
        "\n",
        "print(model.evaluate(data, labels, batch_size=32))\n",
        "\n",
        "print(model.evaluate(dataset, steps=30))"
      ],
      "execution_count": 0,
      "outputs": []
    },
    {
      "metadata": {
        "id": "UXUTmDfb0E2b",
        "colab_type": "text"
      },
      "cell_type": "markdown",
      "source": [
        "最后一层的*预测*结果会输出一个 Numpy 数组: "
      ]
    },
    {
      "metadata": {
        "id": "9e3JsSoQ0E2c",
        "colab_type": "code",
        "colab": {}
      },
      "cell_type": "code",
      "source": [
        "result = model.predict(data, batch_size=32)\n",
        "print(result.shape)"
      ],
      "execution_count": 0,
      "outputs": []
    },
    {
      "metadata": {
        "id": "fzEOW4Cn0E2h",
        "colab_type": "text"
      },
      "cell_type": "markdown",
      "source": [
        "## 构建高级模型\n",
        "\n",
        "### Functional API\n",
        "\n",
        "`tf.keras.Sequential` 模型只是层的堆栈, 无法用来实现灵活的模型. 使用\n",
        "[Keras functional API](https://keras.io/getting-started/functional-api-guide/){:.external}\n",
        "来购将更负责的模型, 例如:\n",
        "\n",
        "* 多输入模型,\n",
        "* 多输出模型,\n",
        "* 使用共享层的模型 (同一层被多次调用),\n",
        "* 使用非时序数据流的模型 (例如. residual connections).\n",
        "\n",
        "使用 functional API 构建模型的步骤:\n",
        "\n",
        "1. 层实例可以被调用并返回一个 tensor. \n",
        "2. 输入的 tensors 和输出的 tensors 用来定义`tf.keras.Model`实例.\n",
        "3. 模型的训练部分与 `Sequential`模型相同.\n",
        "\n",
        "下面用 functional API 构建一个简单的 fully-connected 网络: "
      ]
    },
    {
      "metadata": {
        "id": "mROj832r0E2i",
        "colab_type": "code",
        "colab": {}
      },
      "cell_type": "code",
      "source": [
        "inputs = tf.keras.Input(shape=(32,))  # 返回一个tensor占位符 \n",
        "\n",
        "# 一个层实例可以通过 tensor 调用, 并返回一个 tensor.\n",
        "x = layers.Dense(64, activation='relu')(inputs)\n",
        "x = layers.Dense(64, activation='relu')(x)\n",
        "predictions = layers.Dense(10, activation='softmax')(x)"
      ],
      "execution_count": 0,
      "outputs": []
    },
    {
      "metadata": {
        "id": "AFmspHeG1_W7",
        "colab_type": "text"
      },
      "cell_type": "markdown",
      "source": [
        "初始模型的输入和输出."
      ]
    },
    {
      "metadata": {
        "id": "5k5uzlyu16HM",
        "colab_type": "code",
        "colab": {}
      },
      "cell_type": "code",
      "source": [
        "model = tf.keras.Model(inputs=inputs, outputs=predictions)\n",
        "\n",
        "# compile 步骤, 指定训练的配置. \n",
        "model.compile(optimizer=tf.train.RMSPropOptimizer(0.001),\n",
        "              loss='categorical_crossentropy',\n",
        "              metrics=['accuracy'])\n",
        "\n",
        "# 训练5个循环\n",
        "model.fit(data, labels, batch_size=32, epochs=5)"
      ],
      "execution_count": 0,
      "outputs": []
    },
    {
      "metadata": {
        "id": "EcKSLH3i0E2k",
        "colab_type": "text"
      },
      "cell_type": "markdown",
      "source": [
        "### Model 子类化\n",
        "\n",
        "通过创建`tf.keras.Model`的子类来构建完全自定义的模型, 包括自定义前传. 在 `__init__` 函数内创建 layer 将他们设置为类的属性. 在 `call` 函数内定义前传.\n",
        "\n",
        "当启用[eager execution](./eager.md)时, Model 子类化会更有用, 因为前传可以重写.\n",
        "\n",
        "\n",
        "关键点: 使用正确的 API.  虽然模块子类化提供了更多的灵活性, 同时它也会带来更高的复杂度和更高的用户错误率. 如果可能, 推荐使用functional API.\n",
        "\n",
        "下面的例子是一个使用了自定义前传的子类化`tf.keras.Model`:"
      ]
    },
    {
      "metadata": {
        "id": "KLiHWzcn2Fzk",
        "colab_type": "code",
        "colab": {}
      },
      "cell_type": "code",
      "source": [
        "class MyModel(tf.keras.Model):\n",
        "\n",
        "  def __init__(self, num_classes=10):\n",
        "    super(MyModel, self).__init__(name='my_model')\n",
        "    self.num_classes = num_classes\n",
        "    # 在这里自定义 layer.\n",
        "    self.dense_1 = layers.Dense(32, activation='relu')\n",
        "    self.dense_2 = layers.Dense(num_classes, activation='sigmoid')\n",
        "\n",
        "  def call(self, inputs):\n",
        "    # 这里使用在 `__init__` 函数内定义的层来自定义前传\n",
        "    x = self.dense_1(inputs)\n",
        "    return self.dense_2(x)\n",
        "\n",
        "  def compute_output_shape(self, input_shape):\n",
        "    # 如果你想将自己定义的 model 子类作为 functional-style 模型的一部分, 你需要重写这个方法\n",
        "    # 如果不想, 则不需要重写\n",
        "    shape = tf.TensorShape(input_shape).as_list()\n",
        "    shape[-1] = self.num_classes\n",
        "    return tf.TensorShape(shape)"
      ],
      "execution_count": 0,
      "outputs": []
    },
    {
      "metadata": {
        "id": "ShDD4fv72KGc",
        "colab_type": "text"
      },
      "cell_type": "markdown",
      "source": [
        "实例化新的模型类:"
      ]
    },
    {
      "metadata": {
        "id": "42C-qQHm0E2l",
        "colab_type": "code",
        "colab": {}
      },
      "cell_type": "code",
      "source": [
        "model = MyModel(num_classes=10)\n",
        "\n",
        "# compile 步骤, 指定训练的配置. \n",
        "model.compile(optimizer=tf.train.RMSPropOptimizer(0.001),\n",
        "              loss='categorical_crossentropy',\n",
        "              metrics=['accuracy'])\n",
        "\n",
        "# 训练5个 epoch.\n",
        "model.fit(data, labels, batch_size=32, epochs=5)"
      ],
      "execution_count": 0,
      "outputs": []
    },
    {
      "metadata": {
        "id": "yqRQiKj20E2o",
        "colab_type": "text"
      },
      "cell_type": "markdown",
      "source": [
        "### 自定义 layers\n",
        "\n",
        "通过子类化`tf.keras.layers.Layer`来创建自定义 layer, 需要实现以下方法:\n",
        "\n",
        "* `build`: 创建 layer 的 weights. 通过`add_weight`方法添加 weights.\n",
        "* `call`: 定义前传.\n",
        "* `compute_output_shape`: 指定如何通过输入的 shape 来计算输出的 shape. \n",
        "* 如果有需要, layer 可以通过实现`get_config` 方法和 `from_config` 方法来序列化.\n",
        "\n",
        "下面是一个对输入做了 `matmul`处理, 和添加了 kernel matrix 的自定义 layer 例子:  "
      ]
    },
    {
      "metadata": {
        "id": "l7BFnIHr2WNc",
        "colab_type": "code",
        "colab": {}
      },
      "cell_type": "code",
      "source": [
        "class MyLayer(layers.Layer):\n",
        "\n",
        "  def __init__(self, output_dim, **kwargs):\n",
        "    self.output_dim = output_dim\n",
        "    super(MyLayer, self).__init__(**kwargs)\n",
        "\n",
        "  def build(self, input_shape):\n",
        "    shape = tf.TensorShape((input_shape[1], self.output_dim))\n",
        "    # 为自定义 layer, 创建一个可以被训练的 weight 变量.\n",
        "    self.kernel = self.add_weight(name='kernel',\n",
        "                                  shape=shape,\n",
        "                                  initializer='uniform',\n",
        "                                  trainable=True)\n",
        "    # Be sure to call this at the end\n",
        "    super(MyLayer, self).build(input_shape)\n",
        "\n",
        "  def call(self, inputs):\n",
        "    return tf.matmul(inputs, self.kernel)\n",
        "\n",
        "  def compute_output_shape(self, input_shape):\n",
        "    shape = tf.TensorShape(input_shape).as_list()\n",
        "    shape[-1] = self.output_dim\n",
        "    return tf.TensorShape(shape)\n",
        "\n",
        "  def get_config(self):\n",
        "    base_config = super(MyLayer, self).get_config()\n",
        "    base_config['output_dim'] = self.output_dim\n",
        "    return base_config\n",
        "\n",
        "  @classmethod\n",
        "  def from_config(cls, config):\n",
        "    return cls(**config)"
      ],
      "execution_count": 0,
      "outputs": []
    },
    {
      "metadata": {
        "id": "8wXDRgXV2ZrF",
        "colab_type": "text"
      },
      "cell_type": "markdown",
      "source": [
        "通过自定义层创建一个模型:"
      ]
    },
    {
      "metadata": {
        "id": "uqH-cY0h0E2p",
        "colab_type": "code",
        "colab": {}
      },
      "cell_type": "code",
      "source": [
        "model = tf.keras.Sequential([\n",
        "    MyLayer(10),\n",
        "    layers.Activation('softmax')])\n",
        "\n",
        "# compile 步骤, 指定训练的配置. \n",
        "model.compile(optimizer=tf.train.RMSPropOptimizer(0.001),\n",
        "              loss='categorical_crossentropy',\n",
        "              metrics=['accuracy'])\n",
        "\n",
        "# 训练 5 个循环.\n",
        "model.fit(data, labels, batch_size=32, epochs=5)"
      ],
      "execution_count": 0,
      "outputs": []
    },
    {
      "metadata": {
        "id": "Lu8cc3AJ0E2v",
        "colab_type": "text"
      },
      "cell_type": "markdown",
      "source": [
        "## 回调\n",
        "\n",
        "通过给 model 传一个回调, 可以在训练时自定义或扩展模型. 可以自定义回调, 或使用内置的 `tf.keras.callbacks`:\n",
        "\n",
        "* `tf.keras.callbacks.ModelCheckpoint`: 定期保存模型 checkpoint.\n",
        "* `tf.keras.callbacks.LearningRateScheduler`: 动态改变学习率.\n",
        "* `tf.keras.callbacks.EarlyStopping`: 当验证结果不再提升时, 中断训练. \n",
        "* `tf.keras.callbacks.TensorBoard`: 使用 [TensorBoard](./summaries_and_tensorboard.md). 监控. \n",
        "\n",
        "想要使用回调 `tf.keras.callbacks.Callback`, 只需要将回调传给模型的`fit` 函数即可: "
      ]
    },
    {
      "metadata": {
        "id": "rdYwzSYV0E2v",
        "colab_type": "code",
        "colab": {}
      },
      "cell_type": "code",
      "source": [
        "callbacks = [\n",
        "  # 如果 `val_loss` 在2个循环内不再提升, 则中断训练\n",
        "  tf.keras.callbacks.EarlyStopping(patience=2, monitor='val_loss'),\n",
        "  # 将 TensorBoard logs 写入 `./logs` 目录\n",
        "  tf.keras.callbacks.TensorBoard(log_dir='./logs')\n",
        "]\n",
        "model.fit(data, labels, batch_size=32, epochs=5, callbacks=callbacks,\n",
        "          validation_data=(val_data, val_labels))"
      ],
      "execution_count": 0,
      "outputs": []
    },
    {
      "metadata": {
        "id": "qnl7K-aI0E2z",
        "colab_type": "text"
      },
      "cell_type": "markdown",
      "source": [
        "## 保存save和恢复restore\n",
        "\n",
        "### 只保存 Weights \n",
        "\n",
        "通过 `tf.keras.Model.save_weights` 保存和加载一个模型的 weights:"
      ]
    },
    {
      "metadata": {
        "id": "uQIANjB94fLB",
        "colab_type": "code",
        "colab": {}
      },
      "cell_type": "code",
      "source": [
        "model = tf.keras.Sequential([\n",
        "layers.Dense(64, activation='relu'),\n",
        "layers.Dense(10, activation='softmax')])\n",
        "\n",
        "model.compile(optimizer=tf.train.AdamOptimizer(0.001),\n",
        "              loss='categorical_crossentropy',\n",
        "              metrics=['accuracy'])"
      ],
      "execution_count": 0,
      "outputs": []
    },
    {
      "metadata": {
        "id": "4eoHJ-ny0E21",
        "colab_type": "code",
        "colab": {}
      },
      "cell_type": "code",
      "source": [
        "# 将 weights 存储为一个 TensorFlow Checkpoint 文件\n",
        "model.save_weights('./weights/my_model')\n",
        "\n",
        "# 恢复模型状态,\n",
        "# 需要保存的模型与新创建的模型由同样的结构architecture.\n",
        "model.load_weights('./weights/my_model')"
      ],
      "execution_count": 0,
      "outputs": []
    },
    {
      "metadata": {
        "id": "u25Id3xe0E25",
        "colab_type": "text"
      },
      "cell_type": "markdown",
      "source": [
        "默认情况下, 模型的 weights 保存为 [TensorFlow checkpoint](./checkpoints.md) 文件格式. Weights 同样可以保存为 Keras HDF5 格式 ( Keras的默认格式):"
      ]
    },
    {
      "metadata": {
        "id": "JSAYoFEd0E26",
        "colab_type": "code",
        "colab": {}
      },
      "cell_type": "code",
      "source": [
        "# 保存 weights 为 HDF5 文件格式\n",
        "model.save_weights('my_model.h5', save_format='h5')\n",
        "\n",
        "# 恢复模型状态\n",
        "model.load_weights('my_model.h5')"
      ],
      "execution_count": 0,
      "outputs": []
    },
    {
      "metadata": {
        "id": "mje_yKL10E29",
        "colab_type": "text"
      },
      "cell_type": "markdown",
      "source": [
        "### 只保存配置\n",
        "\n",
        "一个模型的配置也可以被保存, 保存格式是一个序列化的模块结构, 不包含任何 weights. 即使没有原始模型的代码, 被保存的配置同样可以被重新构建成一个一样的模型. Keras 同时支持 JSON 和 YAML 两种序列化格式: "
      ]
    },
    {
      "metadata": {
        "id": "EbET0oJTzGkq",
        "colab_type": "code",
        "colab": {}
      },
      "cell_type": "code",
      "source": [
        "# Serialize a model to JSON format\n",
        "json_string = model.to_json()\n",
        "with open('model.json', 'w') as f:\n",
        "   f.write(json_string)"
      ],
      "execution_count": 0,
      "outputs": []
    },
    {
      "metadata": {
        "id": "pX_badhH3yWV",
        "colab_type": "code",
        "colab": {}
      },
      "cell_type": "code",
      "source": [
        "import json\n",
        "import pprint\n",
        "pprint.pprint(json.loads(json_string))"
      ],
      "execution_count": 0,
      "outputs": []
    },
    {
      "metadata": {
        "id": "Q7CIa05r4yTb",
        "colab_type": "text"
      },
      "cell_type": "markdown",
      "source": [
        "通过 json 文件, 重新构建模型"
      ]
    },
    {
      "metadata": {
        "id": "J9UFv9k00E2_",
        "colab_type": "code",
        "colab": {}
      },
      "cell_type": "code",
      "source": [
        "fresh_model = tf.keras.models.model_from_json(json_string)"
      ],
      "execution_count": 0,
      "outputs": []
    },
    {
      "metadata": {
        "id": "t5NHtICh4uHK",
        "colab_type": "text"
      },
      "cell_type": "markdown",
      "source": [
        "将模型序列化为 YAML 格式需要再你 `import TensorFlow` 前安装 `pyyaml` :"
      ]
    },
    {
      "metadata": {
        "id": "aj24KB3Z36S4",
        "colab_type": "code",
        "colab": {}
      },
      "cell_type": "code",
      "source": [
        "yaml_string = model.to_yaml()\n",
        "print(yaml_string)"
      ],
      "execution_count": 0,
      "outputs": []
    },
    {
      "metadata": {
        "id": "O53Kerfl43v7",
        "colab_type": "text"
      },
      "cell_type": "markdown",
      "source": [
        "通过 yaml 重新构建模型."
      ]
    },
    {
      "metadata": {
        "id": "77yRuwg03_MG",
        "colab_type": "code",
        "colab": {}
      },
      "cell_type": "code",
      "source": [
        "\n",
        "fresh_model = tf.keras.models.model_from_yaml(yaml_string)"
      ],
      "execution_count": 0,
      "outputs": []
    },
    {
      "metadata": {
        "id": "xPvOSSzM0E3B",
        "colab_type": "text"
      },
      "cell_type": "markdown",
      "source": [
        "注意: 子类化的模型是不能被序列化的. 因为他们的结构是通过python 内的 `call` 函数来定义的. 但是可以序列化自定义 layer(通过实现 get_config 和 from_config)"
      ]
    },
    {
      "metadata": {
        "id": "iu8qMwld4-71",
        "colab_type": "text"
      },
      "cell_type": "markdown",
      "source": [
        "\n",
        "### 全部保存\n",
        "\n",
        "模型可以全部保存到一个文件内, 包括 weight 数值, 模型配置, 甚至 optimizer 配置. 模型可以训练中保存一个 checkpoint, 然后在其它时间从这个点上恢复后继续训练. 恢复时不需要任何原始代码. "
      ]
    },
    {
      "metadata": {
        "id": "45oNY34Z0E3C",
        "colab_type": "code",
        "colab": {}
      },
      "cell_type": "code",
      "source": [
        "# 创建一个模型\n",
        "model = tf.keras.Sequential([\n",
        "  layers.Dense(10, activation='softmax', input_shape=(32,)),\n",
        "  layers.Dense(10, activation='softmax')\n",
        "])\n",
        "model.compile(optimizer='rmsprop',\n",
        "              loss='categorical_crossentropy',\n",
        "              metrics=['accuracy'])\n",
        "model.fit(data, labels, batch_size=32, epochs=5)\n",
        "\n",
        "\n",
        "# 将整个模型保存为 HDF5 格式文件\n",
        "model.save('my_model.h5')\n",
        "\n",
        "# 创建相同的模型, 包括 weights 和 optimizer.\n",
        "model = tf.keras.models.load_model('my_model.h5')"
      ],
      "execution_count": 0,
      "outputs": []
    },
    {
      "metadata": {
        "id": "PMOWhDOB0E3E",
        "colab_type": "text"
      },
      "cell_type": "markdown",
      "source": [
        "## Eager execution\n",
        "\n",
        "[Eager execution](./eager.md) 是一个命令式变成环境, 允许在执行命令后马上得到结果.  它在调试项目时十分有效.\n",
        "\n",
        "所有的 `tf.keras` 模块构建 API 都兼容 eager execution.\n",
        "Eager execution 同样支持 *子类化模块* 和 *自定义 layer*, 这样更加有效的帮助了调试前传代码. \n",
        "\n",
        "查看 [eager execution guide](https://www.tensorflow.org/guide/eager#build_a_model) 文档. 里边有使用 Keras 模型的案例. "
      ]
    },
    {
      "metadata": {
        "id": "2wG3NVco5B5V",
        "colab_type": "text"
      },
      "cell_type": "markdown",
      "source": [
        "## Distribution\n",
        "\n",
        "### Estimators\n",
        "\n",
        "[Estimators](https://www.tensorflow.org/guide/estimators) API 用于在分布式环境下训练模型. 目的是在行业内用例, 例如分布式训练一个大型数据集, 模型结果可以应用于生产环境. \n",
        "\n",
        "`tf.keras.Model` 模型可以通过使用`tf.keras.estimator.model_to_estimator`方法, 将其类型转为`tf.estimator.Estimator` 对象来使用 `tf.estimator` API \n",
        ". See\n",
        "[Creating Estimators from Keras models](https://www.tensorflow.org/guide/estimators#creating_estimators_from_keras_models)."
      ]
    },
    {
      "metadata": {
        "id": "cVg0vfTO0E3E",
        "colab_type": "code",
        "colab": {}
      },
      "cell_type": "code",
      "source": [
        "model = tf.keras.Sequential([layers.Dense(10,activation='softmax'),\n",
        "                          layers.Dense(10,activation='softmax')])\n",
        "\n",
        "model.compile(optimizer=tf.train.RMSPropOptimizer(0.001),\n",
        "              loss='categorical_crossentropy',\n",
        "              metrics=['accuracy'])\n",
        "\n",
        "estimator = tf.keras.estimator.model_to_estimator(model)"
      ],
      "execution_count": 0,
      "outputs": []
    },
    {
      "metadata": {
        "id": "S7FKvikO0E3H",
        "colab_type": "text"
      },
      "cell_type": "markdown",
      "source": [
        "Note: 启用 [eager execution](https://www.tensorflow.org/guide/eager) 来 debugging\n",
        "[Estimator input functions](https://www.tensorflow.org/guide/premade_estimators#create_input_functions)\n",
        "和检查数据."
      ]
    },
    {
      "metadata": {
        "id": "6PJZ6e9J5JHF",
        "colab_type": "text"
      },
      "cell_type": "markdown",
      "source": [
        "### 多 GPU\n",
        "\n",
        "`tf.keras` 模型可以通过\n",
        "`tf.contrib.distribute.DistributionStrategy` 在多 GPU 下执行. 此 API 可以在几乎不修改现有代码的情况下支持多 GPU 的分布式训练.\n",
        "\n",
        "当前, `tf.contrib.distribute.MirroredStrategy` 仅支持分布式策略. `MirroredStrategy` 在一个机器上使用收敛算法同步训练, 再通过 in-graph 复制. 想在 Keras 上使用\n",
        "`DistributionStrategy` , 通过`tf.keras.estimator.model_to_estimator`方法将 `tf.keras.Model` 转换为一个\n",
        "`tf.estimator.Estimator` 对象, 再训练 estimator.\n",
        "\n",
        "下面的例子是在一个机器上的多个 GPU 之间分发一个 `tf.keras.Model`.\n",
        "\n",
        "首先, 定义一个简单的 model:"
      ]
    },
    {
      "metadata": {
        "id": "hjmb6BoFOGDo",
        "colab_type": "code",
        "colab": {}
      },
      "cell_type": "code",
      "source": [
        ""
      ],
      "execution_count": 0,
      "outputs": []
    },
    {
      "metadata": {
        "id": "1K4So_-uOGkI",
        "colab_type": "code",
        "colab": {}
      },
      "cell_type": "code",
      "source": [
        ""
      ],
      "execution_count": 0,
      "outputs": []
    },
    {
      "metadata": {
        "id": "sbaRr7g-0E3I",
        "colab_type": "code",
        "colab": {}
      },
      "cell_type": "code",
      "source": [
        "model = tf.keras.Sequential()\n",
        "model.add(layers.Dense(16, activation='relu', input_shape=(10,)))\n",
        "model.add(layers.Dense(1, activation='sigmoid'))\n",
        "\n",
        "optimizer = tf.train.GradientDescentOptimizer(0.2)\n",
        "\n",
        "model.compile(loss='binary_crossentropy', optimizer=optimizer)\n",
        "model.summary()"
      ],
      "execution_count": 0,
      "outputs": []
    },
    {
      "metadata": {
        "id": "yw4hSJme0E3L",
        "colab_type": "text"
      },
      "cell_type": "markdown",
      "source": [
        "定义一个 *input pipeline*.  `input_fn`方法返回一个 `tf.data.Dataset` 对象, 用于将数据分发到多个设备中 -- 每个设备将处理 input batch 的一部分."
      ]
    },
    {
      "metadata": {
        "id": "CxJW1QMH0E3L",
        "colab_type": "code",
        "colab": {}
      },
      "cell_type": "code",
      "source": [
        "def input_fn():\n",
        "  x = np.random.random((1024, 10))\n",
        "  y = np.random.randint(2, size=(1024, 1))\n",
        "  x = tf.cast(x, tf.float32)\n",
        "  dataset = tf.data.Dataset.from_tensor_slices((x, y))\n",
        "  dataset = dataset.repeat(10)\n",
        "  dataset = dataset.batch(32)\n",
        "  return dataset"
      ],
      "execution_count": 0,
      "outputs": []
    },
    {
      "metadata": {
        "id": "rO9MiL6X0E3O",
        "colab_type": "text"
      },
      "cell_type": "markdown",
      "source": [
        "接下来, 创建一个 `tf.estimator.RunConfig`, 用`tf.contrib.distribute.MirroredStrategy` 实例来设置 `train_distribute` 参数. 在创建`MirroredStrategy`时, 可以设置设备列表或设置`num_gpus`. 默认使用所有 GPU 设备 :"
      ]
    },
    {
      "metadata": {
        "id": "BEwFq4PM0E3P",
        "colab_type": "code",
        "colab": {}
      },
      "cell_type": "code",
      "source": [
        "strategy = tf.contrib.distribute.MirroredStrategy()\n",
        "config = tf.estimator.RunConfig(train_distribute=strategy)"
      ],
      "execution_count": 0,
      "outputs": []
    },
    {
      "metadata": {
        "id": "TcnwYVun0E3R",
        "colab_type": "text"
      },
      "cell_type": "markdown",
      "source": [
        "将 Keras model 转换为 `tf.estimator.Estimator` 实例:"
      ]
    },
    {
      "metadata": {
        "id": "VSvbuIID0E3S",
        "colab_type": "code",
        "colab": {}
      },
      "cell_type": "code",
      "source": [
        "keras_estimator = tf.keras.estimator.model_to_estimator(\n",
        "  keras_model=model,\n",
        "  config=config,\n",
        "  model_dir='/tmp/model_dir')"
      ],
      "execution_count": 0,
      "outputs": []
    },
    {
      "metadata": {
        "id": "N6BXU5F90E3U",
        "colab_type": "text"
      },
      "cell_type": "markdown",
      "source": [
        "最后, 设置`input_fn` 和 `steps`参数, 训练 `Estimator` 实例 :"
      ]
    },
    {
      "metadata": {
        "id": "XKoJ2wUH0E3U",
        "colab_type": "code",
        "colab": {}
      },
      "cell_type": "code",
      "source": [
        "keras_estimator.train(input_fn=input_fn, steps=10)"
      ],
      "execution_count": 0,
      "outputs": []
    },
    {
      "metadata": {
        "id": "Y8r3FT8kD9-5",
        "colab_type": "code",
        "colab": {}
      },
      "cell_type": "code",
      "source": [
        ""
      ],
      "execution_count": 0,
      "outputs": []
    }
  ]
}